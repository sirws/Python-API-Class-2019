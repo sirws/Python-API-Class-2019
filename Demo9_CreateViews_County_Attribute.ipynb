{
 "cells": [
  {
   "cell_type": "code",
   "execution_count": null,
   "metadata": {},
   "outputs": [],
   "source": [
    "def getExistingRelatedItem(item, name):\n",
    "    items = item.related_items(\"Service2Service\",\"forward\")\n",
    "    for item in items:\n",
    "        if item.name == name:\n",
    "            return item"
   ]
  },
  {
   "cell_type": "code",
   "execution_count": null,
   "metadata": {},
   "outputs": [],
   "source": [
    "#Please enter your username below\n",
    "YOURUSERNAME = \"<Your ArcGIS Online Username>\"\n",
    "feature_service_itemID = \"<Feature Service ID Created in Demo0>\""
   ]
  },
  {
   "cell_type": "code",
   "execution_count": null,
   "metadata": {},
   "outputs": [],
   "source": [
    "import arcgis\n",
    "from arcgis.features import FeatureLayerCollection\n",
    "from arcgis.geometry import Geometry"
   ]
  },
  {
   "cell_type": "code",
   "execution_count": null,
   "metadata": {},
   "outputs": [],
   "source": [
    "gis = arcgis.gis.GIS(\"https://www.arcgis.com\", YOURUSERNAME)"
   ]
  },
  {
   "cell_type": "code",
   "execution_count": null,
   "metadata": {},
   "outputs": [],
   "source": [
    "item = gis.content.get(feature_service_itemID)\n",
    "item"
   ]
  },
  {
   "cell_type": "code",
   "execution_count": null,
   "metadata": {},
   "outputs": [],
   "source": [
    "fieldNameCountyObs = \"County\"\n",
    "fieldNameCountyBoundary = \"JURLBL\""
   ]
  },
  {
   "cell_type": "code",
   "execution_count": null,
   "metadata": {},
   "outputs": [],
   "source": [
    "fset = item.layers[0].query(where='County is not null', out_fields=fieldNameCounty, return_geometry=False, return_distinct_values=True, group_by_fields_for_statistics=fieldNameCounty,out_statistics=[{\"statisticType\": \"count\",\"onStatisticField\": fieldNameCountyObs,\"outStatisticFieldName\": \"CountyCount\"}])"
   ]
  },
  {
   "cell_type": "code",
   "execution_count": null,
   "metadata": {},
   "outputs": [],
   "source": [
    "fset.df"
   ]
  },
  {
   "cell_type": "code",
   "execution_count": null,
   "metadata": {},
   "outputs": [],
   "source": [
    "flc = FeatureLayerCollection.fromitem(item)\n",
    "for feature in fset:\n",
    "    viewName = \"Wildlife Observations - \" + feature.attributes[fieldNameCounty] + \" County\"\n",
    "    existItem = getExistingRelatedItem(item,viewName)\n",
    "    if existItem is None:\n",
    "        print(\"Creating View for \" + viewName)\n",
    "        try:\n",
    "            existItem = flc.manager.create_view(viewName, spatial_reference=None, extent=None, allow_schema_changes=True, updateable=True, capabilities='Query,Extract', view_layers=None)\n",
    "        except Exception as e:\n",
    "            print(e)\n",
    "    else:\n",
    "        print(\"View exists. (\" + viewName + \")\")\n",
    "    print(\"Updating view definition. (\" + viewName + \")\")\n",
    "    existItem.layers[0].manager.update_definition({\"viewDefinitionQuery\":fieldNameCounty + \" = '\" + feature.attributes[fieldNameCounty] + \"'\"})\n",
    "    #result=existItem.share(groups=[\"Hello Oregon Initiative Open Data Group\"])"
   ]
  },
  {
   "cell_type": "code",
   "execution_count": null,
   "metadata": {},
   "outputs": [],
   "source": []
  }
 ],
 "metadata": {
  "kernelspec": {
   "display_name": "Python 3",
   "language": "python",
   "name": "python3"
  },
  "language_info": {
   "codemirror_mode": {
    "name": "ipython",
    "version": 3
   },
   "file_extension": ".py",
   "mimetype": "text/x-python",
   "name": "python",
   "nbconvert_exporter": "python",
   "pygments_lexer": "ipython3",
   "version": "3.6.6"
  }
 },
 "nbformat": 4,
 "nbformat_minor": 2
}
