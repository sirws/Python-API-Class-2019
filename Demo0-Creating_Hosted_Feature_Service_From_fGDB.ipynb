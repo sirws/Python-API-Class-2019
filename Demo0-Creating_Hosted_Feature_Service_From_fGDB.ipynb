{
 "cells": [
  {
   "cell_type": "code",
   "execution_count": null,
   "metadata": {},
   "outputs": [],
   "source": [
    "#Please enter your username below\n",
    "YOURUSERNAME = \"<Your ArcGIS Online Username>\""
   ]
  },
  {
   "cell_type": "code",
   "execution_count": null,
   "metadata": {},
   "outputs": [],
   "source": [
    "#import the ArcGIS API for Python Library so we can use its many functions\n",
    "import arcgis"
   ]
  },
  {
   "cell_type": "code",
   "execution_count": null,
   "metadata": {},
   "outputs": [],
   "source": [
    "#Connect to your portal or ArcGIS Online\n",
    "gis = arcgis.gis.GIS(\"https://www.arcgis.com\", YOURUSERNAME)"
   ]
  },
  {
   "cell_type": "code",
   "execution_count": null,
   "metadata": {},
   "outputs": [],
   "source": [
    "#Setup some variable such as the location to a zipped up file geodatabase and other information for the uploaded feature service\n",
    "data = r\"C:\\PythonClass\\Data.zip\"\n",
    "folder = \"WDFW\"\n",
    "title = 'WildlifeObservations_' + YOURUSERNAME\n",
    "description = 'Wildlife Observations for ' + YOURUSERNAME"
   ]
  },
  {
   "cell_type": "code",
   "execution_count": null,
   "metadata": {},
   "outputs": [],
   "source": [
    "#create a properties object which contains information for the uploaded content\n",
    "prop = {'title':title,\n",
    "                'description':description,\n",
    "                'tags':'WDFW', 'type':'File Geodatabase'}"
   ]
  },
  {
   "cell_type": "code",
   "execution_count": null,
   "metadata": {},
   "outputs": [],
   "source": [
    "#create a folder in your content to store the items\n",
    "#What will your folder be called? HINT: what does the folder variable above say?\n",
    "gis.content.create_folder(folder)"
   ]
  },
  {
   "cell_type": "code",
   "execution_count": null,
   "metadata": {},
   "outputs": [],
   "source": [
    "#Upload the file geodatabase (zipped) up to your portal and put it in the appropriate folder\n",
    "item = gis.content.add(item_properties=prop, data=data, folder=folder)"
   ]
  },
  {
   "cell_type": "code",
   "execution_count": null,
   "metadata": {},
   "outputs": [],
   "source": [
    "#Publish the file geodatabase as a hosted feature service\n",
    "fs = item.publish()"
   ]
  },
  {
   "cell_type": "code",
   "execution_count": null,
   "metadata": {},
   "outputs": [],
   "source": [
    "#print out the feature service itemID.  You will use this in subsequent exercises.\n",
    "print(fs.id)"
   ]
  },
  {
   "cell_type": "markdown",
   "metadata": {},
   "source": [
    "Now go log into ArcGIS Online using your student credentials.  Look in the WDFW folder in your content.  What 2 items are in there?\n",
    "\n",
    "In this exercise, you connected to ArcGIS Online with user credentials and you uploaded a file geodabase to ArcGIS Online and published it as a hosted feature service."
   ]
  }
 ],
 "metadata": {
  "kernelspec": {
   "display_name": "Python 3",
   "language": "python",
   "name": "python3"
  },
  "language_info": {
   "codemirror_mode": {
    "name": "ipython",
    "version": 3
   },
   "file_extension": ".py",
   "mimetype": "text/x-python",
   "name": "python",
   "nbconvert_exporter": "python",
   "pygments_lexer": "ipython3",
   "version": "3.6.6"
  }
 },
 "nbformat": 4,
 "nbformat_minor": 2
}
