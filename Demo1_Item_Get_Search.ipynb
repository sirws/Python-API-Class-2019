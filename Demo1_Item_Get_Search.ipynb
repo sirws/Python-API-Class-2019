{
 "cells": [
  {
   "cell_type": "markdown",
   "metadata": {},
   "source": [
    "Login to ArcGIS Online using your student account  \n",
    "Username: studentX_pnw (replace the X with the number assigned to you in the class)  \n",
    "Password: student#X (replace the X with the number assigned to you in the class)  \n",
    "Replace <Your ArcGIS Online Username> in the cell below with your student account"
   ]
  },
  {
   "cell_type": "code",
   "execution_count": null,
   "metadata": {},
   "outputs": [],
   "source": [
    "#Please enter your username below\n",
    "YOURUSERNAME = \"<Your ArcGIS Online Username>\"\n",
    "feature_service_itemID = \"<Feature Service ID Created in Demo0>\""
   ]
  },
  {
   "cell_type": "code",
   "execution_count": null,
   "metadata": {
    "scrolled": true
   },
   "outputs": [],
   "source": [
    "import arcgis "
   ]
  },
  {
   "cell_type": "code",
   "execution_count": null,
   "metadata": {},
   "outputs": [],
   "source": [
    "gis = arcgis.gis.GIS(\"https://www.arcgis.com\", YOURUSERNAME)"
   ]
  },
  {
   "cell_type": "markdown",
   "metadata": {},
   "source": [
    "Replace the INSERT_ITEMID_HERE below with the ID of the feature layer you created in the previous exercise (Demo0).  \n",
    "Hint, your item ID is in the URL of the item.  \n",
    "i.e. http://pnw.maps.arcgis.com/home/item.html?id=ffd33754f654414ebd99e769860233f0"
   ]
  },
  {
   "cell_type": "code",
   "execution_count": null,
   "metadata": {},
   "outputs": [],
   "source": [
    "item = gis.content.get(feature_service_itemID)\n",
    "#item is now a variable that references the layer you updloaded to ArcGIS Online\n",
    "#This next line will display the item in the Jupyter notebook\n",
    "item"
   ]
  },
  {
   "cell_type": "code",
   "execution_count": null,
   "metadata": {},
   "outputs": [],
   "source": [
    "#print the item owner\n",
    "item.owner"
   ]
  },
  {
   "cell_type": "code",
   "execution_count": null,
   "metadata": {},
   "outputs": [],
   "source": [
    "#print the item title\n",
    "item.title"
   ]
  },
  {
   "cell_type": "code",
   "execution_count": null,
   "metadata": {},
   "outputs": [],
   "source": [
    "#print the item description\n",
    "item.description"
   ]
  },
  {
   "cell_type": "code",
   "execution_count": null,
   "metadata": {},
   "outputs": [],
   "source": [
    "#update the item description\n",
    "item.update({\"description\": \"Wildlife Observations - Python Demo\"})"
   ]
  },
  {
   "cell_type": "code",
   "execution_count": null,
   "metadata": {},
   "outputs": [],
   "source": [
    "#print the item description again\n",
    "item.description"
   ]
  },
  {
   "cell_type": "markdown",
   "metadata": {},
   "source": [
    "Now, let's update the item's summary. Take a look at the API reference here:\n",
    "https://esri.github.io/arcgis-python-api/apidoc/html/arcgis.gis.toc.html?highlight=snippet#arcgis.gis.Item.update"
   ]
  },
  {
   "cell_type": "code",
   "execution_count": null,
   "metadata": {},
   "outputs": [],
   "source": [
    "#update the items summary.  Notice that the summary property is called the snippet\n",
    "item.update({\"snippet\": \"Wildlife Observations Summary\"})"
   ]
  },
  {
   "cell_type": "markdown",
   "metadata": {},
   "source": [
    "In this exercise, you connected to ArcGIS Online with user credentials. You then listed various properties of the item and updated the description and the summary, which is called the snippet property."
   ]
  }
 ],
 "metadata": {
  "kernelspec": {
   "display_name": "Python 3",
   "language": "python",
   "name": "python3"
  },
  "language_info": {
   "codemirror_mode": {
    "name": "ipython",
    "version": 3
   },
   "file_extension": ".py",
   "mimetype": "text/x-python",
   "name": "python",
   "nbconvert_exporter": "python",
   "pygments_lexer": "ipython3",
   "version": "3.6.6"
  }
 },
 "nbformat": 4,
 "nbformat_minor": 2
}
