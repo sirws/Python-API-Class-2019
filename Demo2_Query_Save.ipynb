{
 "cells": [
  {
   "cell_type": "code",
   "execution_count": null,
   "metadata": {},
   "outputs": [],
   "source": [
    "#Please enter your username below\n",
    "YOURUSERNAME = \"<Your ArcGIS Online Username>\"\n",
    "feature_service_itemID = \"<Feature Service ID Created in Demo0>\""
   ]
  },
  {
   "cell_type": "code",
   "execution_count": null,
   "metadata": {},
   "outputs": [],
   "source": [
    "import arcgis"
   ]
  },
  {
   "cell_type": "code",
   "execution_count": null,
   "metadata": {},
   "outputs": [],
   "source": [
    "#Connect to your portal or ArcGIS Online\n",
    "gis = arcgis.gis.GIS(\"https://www.arcgis.com\", YOURUSERNAME)"
   ]
  },
  {
   "cell_type": "code",
   "execution_count": null,
   "metadata": {},
   "outputs": [],
   "source": [
    "#get the feature service so we can query it\n",
    "item = gis.content.get(feature_service_itemID)"
   ]
  },
  {
   "cell_type": "code",
   "execution_count": null,
   "metadata": {},
   "outputs": [],
   "source": [
    "item"
   ]
  },
  {
   "cell_type": "code",
   "execution_count": null,
   "metadata": {},
   "outputs": [],
   "source": [
    "#print out the layer URLs to the feature service.  How many layers are in this service?\n",
    "item.layers"
   ]
  },
  {
   "cell_type": "code",
   "execution_count": null,
   "metadata": {},
   "outputs": [],
   "source": [
    "#Get a layer object from the first layer in the feature service\n",
    "#https://esri.github.io/arcgis-python-api/apidoc/html/arcgis.gis.toc.html#layer\n",
    "lyr = item.layers[0]"
   ]
  },
  {
   "cell_type": "code",
   "execution_count": null,
   "metadata": {},
   "outputs": [],
   "source": [
    "#The layer object allows us to query a dataset\n",
    "effort_fset = lyr.query(where=\"1=1\", out_fields=\"OBJECTID,EffortDate,EffortStartTime,EffortEndTime,EffortSource,EffortMethod,EffortResult,EffortType,EffortNotes\")"
   ]
  },
  {
   "cell_type": "code",
   "execution_count": null,
   "metadata": {},
   "outputs": [],
   "source": [
    "#Use the dataframe to look at the top 5 records in the dataset\n",
    "effort_fset.df.head()"
   ]
  },
  {
   "cell_type": "code",
   "execution_count": null,
   "metadata": {},
   "outputs": [],
   "source": [
    "#Export the dataset out to a CSV file\n",
    "effort_fset.save(r\"C:\\PythonClass\", \"Effort.csv\")"
   ]
  },
  {
   "cell_type": "code",
   "execution_count": null,
   "metadata": {},
   "outputs": [],
   "source": [
    "#Query the same feature service, but include different fields.  Note a where clause of 1=1 means to return all records\n",
    "#This is pretty common in the SQL world\n",
    "occur_fset = lyr.query(where=\"1=1\", out_fields=\"DetType1,DetQuantity1,CntAccuracy1,Sex1,Lifestage1,Behavior1,DetType2,DetQuantity2,CntAccuracy2,Sex2,Lifestage2,Behavior2,DetType3,DetQuantity3,CntAccuracy3,Sex3,Lifestage3,Behavior3\")"
   ]
  },
  {
   "cell_type": "code",
   "execution_count": null,
   "metadata": {},
   "outputs": [],
   "source": [
    "#Take a look at these records\n",
    "occur_fset.df"
   ]
  },
  {
   "cell_type": "markdown",
   "metadata": {},
   "source": [
    "Why doesn't this following line work when trying to save the featureSet to a file geodatabase?  Hint, look at the bottom of the error stack and then resolve the issue"
   ]
  },
  {
   "cell_type": "code",
   "execution_count": null,
   "metadata": {},
   "outputs": [],
   "source": [
    "#Try and save this dataset to a file geodatabase instead of a csv file.\n",
    "occur_fset.save(r\"C:\\PythonClass\\Data.gdb\", \"Occurrence\")"
   ]
  },
  {
   "cell_type": "code",
   "execution_count": null,
   "metadata": {},
   "outputs": [],
   "source": []
  }
 ],
 "metadata": {
  "kernelspec": {
   "display_name": "Python 3",
   "language": "python",
   "name": "python3"
  },
  "language_info": {
   "codemirror_mode": {
    "name": "ipython",
    "version": 3
   },
   "file_extension": ".py",
   "mimetype": "text/x-python",
   "name": "python",
   "nbconvert_exporter": "python",
   "pygments_lexer": "ipython3",
   "version": "3.6.6"
  }
 },
 "nbformat": 4,
 "nbformat_minor": 2
}
